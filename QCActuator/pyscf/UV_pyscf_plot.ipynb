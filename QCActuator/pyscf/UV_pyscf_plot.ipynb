{
 "cells": [
  {
   "cell_type": "markdown",
   "id": "5129b3be",
   "metadata": {},
   "source": [
    "# PYSCF UV Calculator"
   ]
  },
  {
   "cell_type": "code",
   "execution_count": 2,
   "id": "2c30bda0",
   "metadata": {},
   "outputs": [
    {
     "name": "stdout",
     "output_type": "stream",
     "text": [
      "converged SCF energy = -114.49821624167\n",
      "Excited State energies (eV)\n",
      "[4.10611727 9.13368171 9.24466717]\n",
      "Excitation energies (eV): [4.10611938 9.1336864  9.24467192]\n",
      "Oscillator strengths: [8.87056831e-16 1.81718507e-01 2.33159021e-03]\n",
      "Wavelengths (nm): [301.98829739 135.76117518 134.1313148 ]\n"
     ]
    }
   ],
   "source": [
    "from pyscf_tools import PySCFCalculator\n",
    "\n",
    "# Create a new calculator\n",
    "calc = PySCFCalculator(config_file=\"config.yaml\")\n",
    "\n",
    "# Example of formaldehyde geometry\n",
    "formaldehyde= \"\"\"\n",
    "  C          -0.00000007544128      0.00000007722154      0.02576945733573\n",
    "  O           0.00000019009665     -0.00000002553588      1.23240550391654\n",
    "  H           0.93816203542447     -0.00000002584283     -0.56908732489374\n",
    "  H          -0.93816215007984     -0.00000002584283     -0.56908763635853\n",
    "\"\"\"\n",
    "\n",
    "# Run UV calculation\n",
    "uv_spectrum = calc.run_spectroscopy(\n",
    "    spec_type=\"UV\", \n",
    "    geometry=formaldehyde\n",
    ")\n",
    "\n",
    "# You can access the results\n",
    "print(\"Excitation energies (eV):\", uv_spectrum['energies'])\n",
    "print(\"Oscillator strengths:\", uv_spectrum['oscillator_strengths'])\n",
    "print(\"Wavelengths (nm):\", uv_spectrum['wavelengths'])"
   ]
  },
  {
   "cell_type": "code",
   "execution_count": null,
   "id": "a7887423",
   "metadata": {},
   "outputs": [],
   "source": []
  }
 ],
 "metadata": {
  "kernelspec": {
   "display_name": "pyscf",
   "language": "python",
   "name": "python3"
  },
  "language_info": {
   "codemirror_mode": {
    "name": "ipython",
    "version": 3
   },
   "file_extension": ".py",
   "mimetype": "text/x-python",
   "name": "python",
   "nbconvert_exporter": "python",
   "pygments_lexer": "ipython3",
   "version": "3.12.9"
  }
 },
 "nbformat": 4,
 "nbformat_minor": 5
}
