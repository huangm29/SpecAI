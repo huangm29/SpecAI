{
 "cells": [
  {
   "cell_type": "code",
   "execution_count": 1,
   "id": "3664b633-c832-4171-955f-2a14811fadb4",
   "metadata": {},
   "outputs": [],
   "source": [
    "%load_ext autoreload\n",
    "%autoreload 2\n",
    "# example_notebook.ipynb\n",
    "from orca_tools import OrcaNotebookCalculator, OrcaConfig"
   ]
  },
  {
   "cell_type": "code",
   "execution_count": 2,
   "id": "6d7345a9-f5e3-4654-a38f-b0f73170fb22",
   "metadata": {},
   "outputs": [],
   "source": [
    "XC = 'B3LYP'\n",
    "Basis = '6-31G'\n",
    "Nroot = 3\n",
    "Charge = 0\n",
    "Multiplicity = 1\n",
    "Geom = '''\n",
    "C  1.29014502  -0.00000000  -0.72072889  \n",
    "C  0.00000000  0.00000000  0.07701340  \n",
    "C  -1.29014502  -0.00000000  -0.72072889  \n",
    "O  0.00000000  0.00000000  1.29570905  \n",
    "H  -2.15098489  -0.00000000  -0.04550817  \n",
    "H  -1.33345511  0.88156093  -1.37731159  \n",
    "H  -1.33345511  -0.88156093  -1.37731159  \n",
    "H  1.33345511  0.88156093  -1.37731159  \n",
    "H  2.15098489  -0.00000000  -0.04550817  \n",
    "H  1.33345511  -0.88156093  -1.37731159  \n",
    "'''"
   ]
  },
  {
   "cell_type": "code",
   "execution_count": null,
   "id": "8e6da53a-6d94-4719-8e61-77b6fc0037e6",
   "metadata": {},
   "outputs": [
    {
     "name": "stdout",
     "output_type": "stream",
     "text": [
      "Working directory: orca_tmp\n",
      "Generated ORCA input:\n",
      "!B3LYP 6-31G*\n",
      "%tddft\n",
      "  nroots 3\n",
      "end\n",
      "*xyz 0 1\n",
      "C  1.29014502  -0.00000000  -0.72072889  \n",
      "C  0.00000000  0.00000000  0.07701340  \n",
      "C  -1.29014502  -0.00000000  -0.72072889  \n",
      "O  0.00000000  0.00000000  1.29570905  \n",
      "H  -2.15098489  -0.00000000  -0.04550817  \n",
      "H  -1.33345511  0.88156093  -1.37731159  \n",
      "H  -1.33345511  -0.88156093  -1.37731159  \n",
      "H  1.33345511  0.88156093  -1.37731159  \n",
      "H  2.15098489  -0.00000000  -0.04550817  \n",
      "H  1.33345511  -0.88156093  -1.37731159\n",
      "*\n",
      "\n",
      "Running ORCA calculation in orca_tmp\n",
      "orca_tmp/orca.out\n",
      "Mode is \n",
      "Using eV units\n",
      " (1) spectra detected ...\n",
      "----------------------------------\n",
      "Plotting  Spectrum 0\n",
      "----------------------------------\n",
      "Cannot read the paras.inp file ... \n",
      "    taking the line width parameter from the command line \n",
      "Number of peaks            ...   3\n",
      "Start energy [eV]          ...     1.50\n",
      "Stop energy [eV]           ...    13.50\n",
      "Peak FWHM [eV]             ...     0.50\n",
      "Number of points           ...   1024\n",
      "TYPE abs\n",
      "['/home/huangm/source/orca_6_0_1_linux_x86-64_shared_openmpi416/orca_mapspc', 'orca_tmp/orca.out', 'abs', '-eV', '-x01.5', '-x113.5', '-w0.5']\n"
     ]
    },
    {
     "ename": "FileNotFoundError",
     "evalue": "orca_tmp/orca.out.abs.stk not found.",
     "output_type": "error",
     "traceback": [
      "\u001b[31m---------------------------------------------------------------------------\u001b[39m",
      "\u001b[31mFileNotFoundError\u001b[39m                         Traceback (most recent call last)",
      "\u001b[36mCell\u001b[39m\u001b[36m \u001b[39m\u001b[32mIn[3]\u001b[39m\u001b[32m, line 23\u001b[39m\n\u001b[32m     20\u001b[39m \u001b[38;5;28mprint\u001b[39m(out_file)\n\u001b[32m     22\u001b[39m \u001b[38;5;66;03m# Generate spectrum - this will preserve the files\u001b[39;00m\n\u001b[32m---> \u001b[39m\u001b[32m23\u001b[39m spectrum_data = \u001b[43mcalc\u001b[49m\u001b[43m.\u001b[49m\u001b[43mgenerate_spectrum\u001b[49m\u001b[43m(\u001b[49m\u001b[43mout_file\u001b[49m\u001b[43m,\u001b[49m\u001b[43m \u001b[49m\u001b[38;5;28;43mtype\u001b[39;49m\u001b[43m \u001b[49m\u001b[43m=\u001b[49m\u001b[43m \u001b[49m\u001b[33;43m\"\u001b[39;49m\u001b[33;43mabs\u001b[39;49m\u001b[33;43m\"\u001b[39;49m\u001b[43m,\u001b[49m\u001b[43m \u001b[49m\u001b[43munit\u001b[49m\u001b[43m \u001b[49m\u001b[43m=\u001b[49m\u001b[43m \u001b[49m\u001b[33;43m\"\u001b[39;49m\u001b[33;43meV\u001b[39;49m\u001b[33;43m\"\u001b[39;49m\u001b[43m,\u001b[49m\u001b[43m  \u001b[49m\u001b[43mstart_point\u001b[49m\u001b[43m=\u001b[49m\u001b[32;43m1.5\u001b[39;49m\u001b[43m,\u001b[49m\u001b[43m \u001b[49m\u001b[43mend_point\u001b[49m\u001b[43m \u001b[49m\u001b[43m=\u001b[49m\u001b[32;43m13.5\u001b[39;49m\u001b[43m)\u001b[49m\n\u001b[32m     25\u001b[39m \u001b[38;5;66;03m# Plot spectrum - files are guaranteed to exist\u001b[39;00m\n\u001b[32m     26\u001b[39m calc.plot_spectrum()\n",
      "\u001b[36mFile \u001b[39m\u001b[32m~/SpecAI/QCActuator/ORCA/orca_tools.py:184\u001b[39m, in \u001b[36mOrcaNotebookCalculator.generate_spectrum\u001b[39m\u001b[34m(self, output_file, type, unit, conv_width, start_point, end_point)\u001b[39m\n\u001b[32m    181\u001b[39m dat_file = output_file.with_suffix(\u001b[33m'\u001b[39m\u001b[33m.out.abs.dat\u001b[39m\u001b[33m'\u001b[39m)\n\u001b[32m    183\u001b[39m \u001b[38;5;66;03m# Load data into memory\u001b[39;00m\n\u001b[32m--> \u001b[39m\u001b[32m184\u001b[39m stk_data = \u001b[43mnp\u001b[49m\u001b[43m.\u001b[49m\u001b[43mloadtxt\u001b[49m\u001b[43m(\u001b[49m\u001b[43mstk_file\u001b[49m\u001b[43m)\u001b[49m\n\u001b[32m    185\u001b[39m dat_data = np.loadtxt(dat_file)\n\u001b[32m    187\u001b[39m \u001b[38;5;28mself\u001b[39m._spectrum_data = {\n\u001b[32m    188\u001b[39m     \u001b[33m'\u001b[39m\u001b[33mstick\u001b[39m\u001b[33m'\u001b[39m: stk_data,\n\u001b[32m    189\u001b[39m     \u001b[33m'\u001b[39m\u001b[33mconv\u001b[39m\u001b[33m'\u001b[39m: dat_data\n\u001b[32m    190\u001b[39m }\n",
      "\u001b[36mFile \u001b[39m\u001b[32m~/anaconda3/envs/spec/lib/python3.13/site-packages/numpy/lib/_npyio_impl.py:1395\u001b[39m, in \u001b[36mloadtxt\u001b[39m\u001b[34m(fname, dtype, comments, delimiter, converters, skiprows, usecols, unpack, ndmin, encoding, max_rows, quotechar, like)\u001b[39m\n\u001b[32m   1392\u001b[39m \u001b[38;5;28;01mif\u001b[39;00m \u001b[38;5;28misinstance\u001b[39m(delimiter, \u001b[38;5;28mbytes\u001b[39m):\n\u001b[32m   1393\u001b[39m     delimiter = delimiter.decode(\u001b[33m'\u001b[39m\u001b[33mlatin1\u001b[39m\u001b[33m'\u001b[39m)\n\u001b[32m-> \u001b[39m\u001b[32m1395\u001b[39m arr = \u001b[43m_read\u001b[49m\u001b[43m(\u001b[49m\u001b[43mfname\u001b[49m\u001b[43m,\u001b[49m\u001b[43m \u001b[49m\u001b[43mdtype\u001b[49m\u001b[43m=\u001b[49m\u001b[43mdtype\u001b[49m\u001b[43m,\u001b[49m\u001b[43m \u001b[49m\u001b[43mcomment\u001b[49m\u001b[43m=\u001b[49m\u001b[43mcomment\u001b[49m\u001b[43m,\u001b[49m\u001b[43m \u001b[49m\u001b[43mdelimiter\u001b[49m\u001b[43m=\u001b[49m\u001b[43mdelimiter\u001b[49m\u001b[43m,\u001b[49m\n\u001b[32m   1396\u001b[39m \u001b[43m            \u001b[49m\u001b[43mconverters\u001b[49m\u001b[43m=\u001b[49m\u001b[43mconverters\u001b[49m\u001b[43m,\u001b[49m\u001b[43m \u001b[49m\u001b[43mskiplines\u001b[49m\u001b[43m=\u001b[49m\u001b[43mskiprows\u001b[49m\u001b[43m,\u001b[49m\u001b[43m \u001b[49m\u001b[43musecols\u001b[49m\u001b[43m=\u001b[49m\u001b[43musecols\u001b[49m\u001b[43m,\u001b[49m\n\u001b[32m   1397\u001b[39m \u001b[43m            \u001b[49m\u001b[43munpack\u001b[49m\u001b[43m=\u001b[49m\u001b[43munpack\u001b[49m\u001b[43m,\u001b[49m\u001b[43m \u001b[49m\u001b[43mndmin\u001b[49m\u001b[43m=\u001b[49m\u001b[43mndmin\u001b[49m\u001b[43m,\u001b[49m\u001b[43m \u001b[49m\u001b[43mencoding\u001b[49m\u001b[43m=\u001b[49m\u001b[43mencoding\u001b[49m\u001b[43m,\u001b[49m\n\u001b[32m   1398\u001b[39m \u001b[43m            \u001b[49m\u001b[43mmax_rows\u001b[49m\u001b[43m=\u001b[49m\u001b[43mmax_rows\u001b[49m\u001b[43m,\u001b[49m\u001b[43m \u001b[49m\u001b[43mquote\u001b[49m\u001b[43m=\u001b[49m\u001b[43mquotechar\u001b[49m\u001b[43m)\u001b[49m\n\u001b[32m   1400\u001b[39m \u001b[38;5;28;01mreturn\u001b[39;00m arr\n",
      "\u001b[36mFile \u001b[39m\u001b[32m~/anaconda3/envs/spec/lib/python3.13/site-packages/numpy/lib/_npyio_impl.py:1022\u001b[39m, in \u001b[36m_read\u001b[39m\u001b[34m(fname, delimiter, comment, quote, imaginary_unit, usecols, skiplines, max_rows, converters, ndmin, unpack, dtype, encoding)\u001b[39m\n\u001b[32m   1020\u001b[39m     fname = os.fspath(fname)\n\u001b[32m   1021\u001b[39m \u001b[38;5;28;01mif\u001b[39;00m \u001b[38;5;28misinstance\u001b[39m(fname, \u001b[38;5;28mstr\u001b[39m):\n\u001b[32m-> \u001b[39m\u001b[32m1022\u001b[39m     fh = \u001b[43mnp\u001b[49m\u001b[43m.\u001b[49m\u001b[43mlib\u001b[49m\u001b[43m.\u001b[49m\u001b[43m_datasource\u001b[49m\u001b[43m.\u001b[49m\u001b[43mopen\u001b[49m\u001b[43m(\u001b[49m\u001b[43mfname\u001b[49m\u001b[43m,\u001b[49m\u001b[43m \u001b[49m\u001b[33;43m'\u001b[39;49m\u001b[33;43mrt\u001b[39;49m\u001b[33;43m'\u001b[39;49m\u001b[43m,\u001b[49m\u001b[43m \u001b[49m\u001b[43mencoding\u001b[49m\u001b[43m=\u001b[49m\u001b[43mencoding\u001b[49m\u001b[43m)\u001b[49m\n\u001b[32m   1023\u001b[39m     \u001b[38;5;28;01mif\u001b[39;00m encoding \u001b[38;5;129;01mis\u001b[39;00m \u001b[38;5;28;01mNone\u001b[39;00m:\n\u001b[32m   1024\u001b[39m         encoding = \u001b[38;5;28mgetattr\u001b[39m(fh, \u001b[33m'\u001b[39m\u001b[33mencoding\u001b[39m\u001b[33m'\u001b[39m, \u001b[33m'\u001b[39m\u001b[33mlatin1\u001b[39m\u001b[33m'\u001b[39m)\n",
      "\u001b[36mFile \u001b[39m\u001b[32m~/anaconda3/envs/spec/lib/python3.13/site-packages/numpy/lib/_datasource.py:192\u001b[39m, in \u001b[36mopen\u001b[39m\u001b[34m(path, mode, destpath, encoding, newline)\u001b[39m\n\u001b[32m    155\u001b[39m \u001b[38;5;250m\u001b[39m\u001b[33;03m\"\"\"\u001b[39;00m\n\u001b[32m    156\u001b[39m \u001b[33;03mOpen `path` with `mode` and return the file object.\u001b[39;00m\n\u001b[32m    157\u001b[39m \n\u001b[32m   (...)\u001b[39m\u001b[32m    188\u001b[39m \n\u001b[32m    189\u001b[39m \u001b[33;03m\"\"\"\u001b[39;00m\n\u001b[32m    191\u001b[39m ds = DataSource(destpath)\n\u001b[32m--> \u001b[39m\u001b[32m192\u001b[39m \u001b[38;5;28;01mreturn\u001b[39;00m \u001b[43mds\u001b[49m\u001b[43m.\u001b[49m\u001b[43mopen\u001b[49m\u001b[43m(\u001b[49m\u001b[43mpath\u001b[49m\u001b[43m,\u001b[49m\u001b[43m \u001b[49m\u001b[43mmode\u001b[49m\u001b[43m,\u001b[49m\u001b[43m \u001b[49m\u001b[43mencoding\u001b[49m\u001b[43m=\u001b[49m\u001b[43mencoding\u001b[49m\u001b[43m,\u001b[49m\u001b[43m \u001b[49m\u001b[43mnewline\u001b[49m\u001b[43m=\u001b[49m\u001b[43mnewline\u001b[49m\u001b[43m)\u001b[49m\n",
      "\u001b[36mFile \u001b[39m\u001b[32m~/anaconda3/envs/spec/lib/python3.13/site-packages/numpy/lib/_datasource.py:529\u001b[39m, in \u001b[36mDataSource.open\u001b[39m\u001b[34m(self, path, mode, encoding, newline)\u001b[39m\n\u001b[32m    526\u001b[39m     \u001b[38;5;28;01mreturn\u001b[39;00m _file_openers[ext](found, mode=mode,\n\u001b[32m    527\u001b[39m                               encoding=encoding, newline=newline)\n\u001b[32m    528\u001b[39m \u001b[38;5;28;01melse\u001b[39;00m:\n\u001b[32m--> \u001b[39m\u001b[32m529\u001b[39m     \u001b[38;5;28;01mraise\u001b[39;00m \u001b[38;5;167;01mFileNotFoundError\u001b[39;00m(\u001b[33mf\u001b[39m\u001b[33m\"\u001b[39m\u001b[38;5;132;01m{\u001b[39;00mpath\u001b[38;5;132;01m}\u001b[39;00m\u001b[33m not found.\u001b[39m\u001b[33m\"\u001b[39m)\n",
      "\u001b[31mFileNotFoundError\u001b[39m: orca_tmp/orca.out.abs.stk not found."
     ]
    }
   ],
   "source": [
    "# Set up calculator with a specific working directory\n",
    "config = OrcaConfig(\n",
    "    work_dir=\"orca_tmp\",\n",
    "    verbose=True\n",
    ")\n",
    "\n",
    "with OrcaNotebookCalculator(config=config, orca_path = \"/home/huangm/source/orca_6_0_1_linux_x86-64_shared_openmpi416/\") as calc:\n",
    "    # Run calculation\n",
    "    input_content = calc.generate_input(\n",
    "        xc=XC,\n",
    "        basis=Basis,\n",
    "        nroot=Nroot,\n",
    "        charge=Charge,\n",
    "        multiplicity=Multiplicity,\n",
    "        geometry=Geom\n",
    "    )\n",
    "    \n",
    "    inp_file, out_file = calc.run_calculation(input_content)\n",
    "\n",
    "    print(out_file)\n",
    "    \n",
    "    # Generate spectrum - this will preserve the files\n",
    "    spectrum_data = calc.generate_spectrum(out_file, type = \"ABS\", unit = \"eV\",  start_point=1.5, end_point =13.5)\n",
    "    \n",
    "    # Plot spectrum - files are guaranteed to exist\n",
    "    calc.plot_spectrum()\n",
    "    \n",
    "    # Optionally save everything to a permanent location\n",
    "    #calc.save_working_dir(\"./permanent_results\")"
   ]
  },
  {
   "cell_type": "code",
   "execution_count": null,
   "id": "ebe4e58d-9842-4c03-9814-7a80258c5e9f",
   "metadata": {},
   "outputs": [],
   "source": []
  },
  {
   "cell_type": "code",
   "execution_count": null,
   "id": "be69297b-90e1-4ebe-9217-602cc157edc7",
   "metadata": {},
   "outputs": [],
   "source": []
  }
 ],
 "metadata": {
  "kernelspec": {
   "display_name": "spec",
   "language": "python",
   "name": "python3"
  },
  "language_info": {
   "codemirror_mode": {
    "name": "ipython",
    "version": 3
   },
   "file_extension": ".py",
   "mimetype": "text/x-python",
   "name": "python",
   "nbconvert_exporter": "python",
   "pygments_lexer": "ipython3",
   "version": "3.13.2"
  }
 },
 "nbformat": 4,
 "nbformat_minor": 5
}
