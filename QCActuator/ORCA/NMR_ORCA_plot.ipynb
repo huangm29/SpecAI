{
 "cells": [
  {
   "cell_type": "code",
   "execution_count": 13,
   "id": "4326fc00",
   "metadata": {
    "scrolled": true
   },
   "outputs": [
    {
     "data": {
      "text/plain": [
       "CompletedProcess(args=['/home/gui/orca_6_0_1/orca', 'acetamide_sscc.inp'], returncode=0)"
      ]
     },
     "execution_count": 13,
     "metadata": {},
     "output_type": "execute_result"
    }
   ],
   "source": [
    "import numpy as np\n",
    "import subprocess\n",
    "import os\n",
    "\n",
    "DELETE_TEMP = False\n",
    "\n",
    "ORCA_PATH = \"/home/gui/orca_6_0_1/\"\n",
    "ORCA_EXEC = ORCA_PATH+\"orca\"\n",
    "\n",
    "SSCC_INPUT = \"acetamide_sscc.inp\"\n",
    "SSCC_OUTPUT = \"acetamide_sscc.property.txt\"\n",
    "NMR_INPUT = \"acetamide_nmr.inp\"\n",
    "NMR_OUTPUT = \"acetamide_nmr.property.txt\"\n",
    "NMR_SPEC_INPUT = \"acetamide.nmrspec\"\n",
    "NMR_GBW_FILE = \"acetamide_nmr.gbw\"\n",
    "NMR_SPEC_OUTPUT = \"acetamide_nmrspec.out\"\n",
    "\n",
    "# creat input file for spin-spin coupling constants \n",
    "sscc_inp = '''\n",
    "!B3LYP 6-31G*\n",
    "\n",
    "*xyz 0 1\n",
    "  O          -0.46269991708219      1.26347851821489     -0.25636278872658\n",
    "  N           0.71857458246431     -0.66376635191250      0.05627510754746\n",
    "  C          -0.44155497151501      0.05063526848618     -0.08649725038021\n",
    "  C           2.02871261396007     -0.03987380453501      0.02291345938059\n",
    "  C          -1.72204540274477     -0.77251562482314     -0.02173604985495\n",
    "  H           0.66014801076857     -1.66095160782806      0.19945565079693\n",
    "  H           2.55818083398569     -0.16816058626330      0.97543308336928\n",
    "  H           1.87254650126915      1.02501026444747     -0.15753197370456\n",
    "  H           2.64664219040216     -0.45496754358063     -0.78286182010502\n",
    "  H          -2.34765828014480     -0.38714532433314      0.78968161181891\n",
    "  H          -2.27740323351236     -0.63290341950480     -0.95471645016362\n",
    "  H          -1.55704292785082     -1.84383978836795      0.13564742002177\n",
    "* \n",
    "\n",
    "%eprnmr\n",
    " Nuclei = all H {ssall}\n",
    "end\n",
    "'''\n",
    "\n",
    "with open(SSCC_INPUT,\"w\") as f:\n",
    "    f.write(sscc_inp)\n",
    "\n",
    "# run orca for spin-spin couling constants\n",
    "subprocess.run([ORCA_EXEC, SSCC_INPUT], stdout = subprocess.DEVNULL, stderr = subprocess.DEVNULL)"
   ]
  },
  {
   "cell_type": "code",
   "execution_count": 14,
   "id": "f1dfb522-6002-49b1-99be-b97b9676542e",
   "metadata": {
    "scrolled": true
   },
   "outputs": [
    {
     "data": {
      "text/plain": [
       "CompletedProcess(args=['/home/gui/orca_6_0_1/orca', 'acetamide_nmr.inp'], returncode=0)"
      ]
     },
     "execution_count": 14,
     "metadata": {},
     "output_type": "execute_result"
    }
   ],
   "source": [
    "# create input file for NMR shieldings\n",
    "nmr_inp = '''\n",
    "!B3LYP 6-31G* NMR\n",
    "*xyz 0 1\n",
    "  O          -0.46269991708219      1.26347851821489     -0.25636278872658\n",
    "  N           0.71857458246431     -0.66376635191250      0.05627510754746\n",
    "  C          -0.44155497151501      0.05063526848618     -0.08649725038021\n",
    "  C           2.02871261396007     -0.03987380453501      0.02291345938059\n",
    "  C          -1.72204540274477     -0.77251562482314     -0.02173604985495\n",
    "  H           0.66014801076857     -1.66095160782806      0.19945565079693\n",
    "  H           2.55818083398569     -0.16816058626330      0.97543308336928\n",
    "  H           1.87254650126915      1.02501026444747     -0.15753197370456\n",
    "  H           2.64664219040216     -0.45496754358063     -0.78286182010502\n",
    "  H          -2.34765828014480     -0.38714532433314      0.78968161181891\n",
    "  H          -2.27740323351236     -0.63290341950480     -0.95471645016362\n",
    "  H          -1.55704292785082     -1.84383978836795      0.13564742002177\n",
    "* \n",
    "'''\n",
    "\n",
    "with open(NMR_INPUT,\"w\") as f:\n",
    "    f.write(nmr_inp)\n",
    "\n",
    "# run orca for NMR shieldings\n",
    "subprocess.run([ORCA_EXEC, NMR_INPUT], stdout = subprocess.DEVNULL, stderr = subprocess.DEVNULL)"
   ]
  },
  {
   "cell_type": "code",
   "execution_count": 16,
   "id": "c980135f-5b27-4172-b0f7-36147f60dbb9",
   "metadata": {
    "scrolled": true
   },
   "outputs": [],
   "source": [
    "ORCA_NMRSPC = ORCA_PATH+\"orca_nmrspectrum\"\n",
    "\n",
    "# create input file for orca_nmrspectrum\n",
    "nmr_spec_inp = '''\n",
    "NMRShieldingFile = \"acetamide_nmr\"\n",
    "NMRCouplingFile = \"acetamide_sscc\"\n",
    "NMRSpecFreq = 80.00\n",
    "PrintLevel = 0\n",
    "NMRCoal = 1.0\n",
    "NMRREF[1] 31.77\n",
    "NMRREF[6] 188.10\n",
    "NMREquiv\n",
    "1 {6 7 8} end\n",
    "2 {9 10 11} end\n",
    "end\n",
    "END\n",
    "'''\n",
    "\n",
    "with open(NMR_SPEC_INPUT,\"w\") as f:\n",
    "    f.write(nmr_spec_inp)\n",
    "\n",
    "with open(NMR_SPEC_OUTPUT,\"w\") as f_o:\n",
    "    subprocess.run([ORCA_NMRSPC, NMR_GBW_FILE, NMR_SPEC_INPUT], stdout = f_o, stderr = subprocess.DEVNULL) # run orca_nmrspectrum (there is a bug in this version)"
   ]
  },
  {
   "cell_type": "code",
   "execution_count": 109,
   "id": "df9a615f-3bbb-45eb-9c36-d1d368cdf1d1",
   "metadata": {},
   "outputs": [
    {
     "data": {
      "image/png": "[encoded data removed]",
      "text/plain": [
       "<Figure size 640x480 with 1 Axes>"
      ]
     },
     "metadata": {},
     "output_type": "display_data"
    }
   ],
   "source": [
    "# read hydrogen data from the output\n",
    "import csv\n",
    "hydrogen_data = []\n",
    "\n",
    "with open(\"acetamide_nmrspec_corrected.out\",\"r\") as f:\n",
    "    lines = f.readlines()\n",
    "\n",
    "inside_hydrogen_section = False\n",
    "for i, line in enumerate(lines):\n",
    "    if \"NMR Peaks for atom type 1\" in line:\n",
    "        inside_hydrogen_section = True\n",
    "        continue\n",
    "    if inside_hydrogen_section:\n",
    "        parts = line.split()        \n",
    "        if len(parts) == 3:\n",
    "            try:\n",
    "               atom, shift_ppm, rel_intensity = int(parts[0]), float(parts[1]), float(parts[2])\n",
    "               hydrogen_data.append((shift_ppm, rel_intensity))\n",
    "            except ValueError:\n",
    "               continue\n",
    "        if \"NMR Peaks for atom type\" in line:\n",
    "            inside_hydrogen_section = False\n",
    "            break\n",
    "\n",
    "with open(\"hydrogen_data.csv\", \"w\", newline=\"\") as f:\n",
    "    writer = csv.writer(f, delimiter=' ')\n",
    "    writer.writerows(hydrogen_data)\n",
    "\n",
    "if not hydrogen_data: \n",
    "    print(\"No hydrogen data found.\")\n",
    "\n",
    "# plot the NMR spectrum\n",
    "from importlib import reload\n",
    "import ConvolutionPlot\n",
    "                       \n",
    "reload(ConvolutionPlot) \n",
    "from ConvolutionPlot import * \n",
    "\n",
    "ConvPlot(SpecType = 4, gamma = 0.0, PlotTitle = \"Acetamide $^1$H NMR\", PlotLabel = [\"B3LYP/6-31G*\"], \n",
    "            DataFileNames=[\"hydrogen_data.csv\"])"
   ]
  }
 ],
 "metadata": {
  "kernelspec": {
   "display_name": "Python 3 (ipykernel)",
   "language": "python",
   "name": "python3"
  },
  "language_info": {
   "codemirror_mode": {
    "name": "ipython",
    "version": 3
   },
   "file_extension": ".py",
   "mimetype": "text/x-python",
   "name": "python",
   "nbconvert_exporter": "python",
   "pygments_lexer": "ipython3",
   "version": "3.12.7"
  }
 },
 "nbformat": 4,
 "nbformat_minor": 5
}
